{
 "cells": [
  {
   "attachments": {},
   "cell_type": "markdown",
   "metadata": {},
   "source": [
    "### 데이터 전처리 및 특징추출\n",
    "- 캐글 파일"
   ]
  },
  {
   "cell_type": "code",
   "execution_count": 1,
   "metadata": {},
   "outputs": [],
   "source": [
    "import pandas as pd\n",
    "import numpy as np\n",
    "import librosa\n",
    "import librosa.display\n",
    "import matplotlib.pyplot as plt\n",
    "import os"
   ]
  },
  {
   "cell_type": "code",
   "execution_count": 6,
   "metadata": {},
   "outputs": [],
   "source": [
    "m_files = []\n",
    "directories = []\n",
    "for i in os.walk('./data/genres(new_n)/'):\n",
    "    for j in i:\n",
    "        if isinstance(j, list) and j!=[]:\n",
    "            m_files.append(j)\n",
    "        elif j:\n",
    "            directories.append(j)\n",
    "wave_files = dict(zip(directories[1:], m_files[1:]))"
   ]
  },
  {
   "cell_type": "code",
   "execution_count": 7,
   "metadata": {},
   "outputs": [],
   "source": [
    "m_files.remove(['.DS_Store'])"
   ]
  },
  {
   "cell_type": "code",
   "execution_count": 8,
   "metadata": {},
   "outputs": [
    {
     "data": {
      "text/plain": [
       "[['new'], ['country.wav', 'fusion.01.wav', 'fusion.00.wav', 'hiphop.wav']]"
      ]
     },
     "execution_count": 8,
     "metadata": {},
     "output_type": "execute_result"
    }
   ],
   "source": [
    "m_files"
   ]
  },
  {
   "cell_type": "code",
   "execution_count": 9,
   "metadata": {},
   "outputs": [
    {
     "data": {
      "text/plain": [
       "['./data/genres(new_n)/', './data/genres(new_n)/new']"
      ]
     },
     "execution_count": 9,
     "metadata": {},
     "output_type": "execute_result"
    }
   ],
   "source": [
    "directories"
   ]
  },
  {
   "cell_type": "code",
   "execution_count": 10,
   "metadata": {},
   "outputs": [
    {
     "data": {
      "text/plain": [
       "1"
      ]
     },
     "execution_count": 10,
     "metadata": {},
     "output_type": "execute_result"
    }
   ],
   "source": [
    "len(wave_files)"
   ]
  },
  {
   "cell_type": "code",
   "execution_count": 11,
   "metadata": {},
   "outputs": [],
   "source": [
    "wave_files = dict(zip(directories[1:], m_files[1:]))"
   ]
  },
  {
   "cell_type": "code",
   "execution_count": 12,
   "metadata": {},
   "outputs": [
    {
     "data": {
      "text/plain": [
       "{'./data/genres(new_n)/new': ['country.wav',\n",
       "  'fusion.01.wav',\n",
       "  'fusion.00.wav',\n",
       "  'hiphop.wav']}"
      ]
     },
     "execution_count": 12,
     "metadata": {},
     "output_type": "execute_result"
    }
   ],
   "source": [
    "wave_files"
   ]
  },
  {
   "cell_type": "code",
   "execution_count": 13,
   "metadata": {},
   "outputs": [],
   "source": [
    "read_wave = {}\n",
    "j = 0\n",
    "for folder, file in wave_files.items():\n",
    "    i = 0\n",
    "    for read in file:\n",
    "        read_wave[m_files[0][j]+str(i)]=os.path.join(folder, read)\n",
    "        i+=1\n",
    "    j+=1"
   ]
  },
  {
   "cell_type": "code",
   "execution_count": 14,
   "metadata": {},
   "outputs": [
    {
     "data": {
      "text/plain": [
       "4"
      ]
     },
     "execution_count": 14,
     "metadata": {},
     "output_type": "execute_result"
    }
   ],
   "source": [
    "len(read_wave)"
   ]
  },
  {
   "cell_type": "code",
   "execution_count": 15,
   "metadata": {},
   "outputs": [],
   "source": [
    "def load_wav(files):\n",
    "    all_loads = {}\n",
    "    for folder, file in files.items():\n",
    "        y, sr = librosa.load(file, sr=22050)\n",
    "        all_loads[folder]=y\n",
    "    return all_loads"
   ]
  },
  {
   "cell_type": "code",
   "execution_count": 16,
   "metadata": {},
   "outputs": [
    {
     "data": {
      "text/plain": [
       "{'new0': array([0., 0., 0., ..., 0., 0., 0.], dtype=float32),\n",
       " 'new1': array([ 7.44216720e-07,  1.24115366e-04, -1.20477176e-04, ...,\n",
       "         5.28440952e-01,  5.83550632e-01,  6.29093230e-01], dtype=float32),\n",
       " 'new2': array([0., 0., 0., ..., 0., 0., 0.], dtype=float32),\n",
       " 'new3': array([0.        , 0.        , 0.        , ..., 0.44247332, 0.43032894,\n",
       "        0.42878398], dtype=float32)}"
      ]
     },
     "execution_count": 16,
     "metadata": {},
     "output_type": "execute_result"
    }
   ],
   "source": [
    "loading_files = load_wav(read_wave)\n",
    "loading_files"
   ]
  },
  {
   "cell_type": "code",
   "execution_count": 17,
   "metadata": {},
   "outputs": [],
   "source": [
    "# 데이터별 특징추출\n",
    "from sklearn.model_selection import train_test_split\n",
    "from sklearn.preprocessing import MinMaxScaler, RobustScaler, StandardScaler, LabelEncoder\n",
    "from sklearn.metrics import accuracy_score\n",
    "from sklearn.neighbors import KNeighborsClassifier\n",
    "from sklearn.tree import DecisionTreeClassifier\n",
    "from sklearn.ensemble import RandomForestClassifier\n",
    "from sklearn.model_selection import RandomizedSearchCV, GridSearchCV"
   ]
  },
  {
   "cell_type": "code",
   "execution_count": 18,
   "metadata": {},
   "outputs": [],
   "source": [
    "datas = []\n",
    "Y = []\n",
    "for i, i1 in wave_files.items():\n",
    "    for j in i1:\n",
    "        data = os.path.join(i, j)\n",
    "        y, sr = librosa.load(data)\n",
    "        chroma_stft = np.mean(librosa.feature.chroma_stft(y=y, sr=sr))\n",
    "        rmse = np.mean(librosa.feature.rms(y=y))\n",
    "        spec_cent = np.mean(librosa.feature.spectral_centroid(y=y, sr=sr))\n",
    "        spec_bw = np.mean(librosa.feature.spectral_bandwidth(y=y, sr=sr))\n",
    "        rolloff = np.mean(librosa.feature.spectral_rolloff(y=y, sr=sr))\n",
    "        zcr = np.mean(librosa.feature.zero_crossing_rate(y))\n",
    "        datas.append({\n",
    "        \"path\":data,\n",
    "        \"filename\":j,\n",
    "        \"chroma_stft\":chroma_stft,\n",
    "        \"rmse\":rmse,\n",
    "        \"spec_cent\":spec_cent,\n",
    "        \"spec_bw\":spec_bw,\n",
    "        \"rolloff\":rolloff,\n",
    "        \"zcr\":zcr\n",
    "        })\n",
    "        Y.append(i)"
   ]
  },
  {
   "cell_type": "code",
   "execution_count": 19,
   "metadata": {},
   "outputs": [
    {
     "data": {
      "text/html": [
       "<div>\n",
       "<style scoped>\n",
       "    .dataframe tbody tr th:only-of-type {\n",
       "        vertical-align: middle;\n",
       "    }\n",
       "\n",
       "    .dataframe tbody tr th {\n",
       "        vertical-align: top;\n",
       "    }\n",
       "\n",
       "    .dataframe thead th {\n",
       "        text-align: right;\n",
       "    }\n",
       "</style>\n",
       "<table border=\"1\" class=\"dataframe\">\n",
       "  <thead>\n",
       "    <tr style=\"text-align: right;\">\n",
       "      <th></th>\n",
       "      <th>path</th>\n",
       "      <th>filename</th>\n",
       "      <th>chroma_stft</th>\n",
       "      <th>rmse</th>\n",
       "      <th>spec_cent</th>\n",
       "      <th>spec_bw</th>\n",
       "      <th>rolloff</th>\n",
       "      <th>zcr</th>\n",
       "    </tr>\n",
       "  </thead>\n",
       "  <tbody>\n",
       "    <tr>\n",
       "      <th>0</th>\n",
       "      <td>./data/genres(new_n)/new/country.wav</td>\n",
       "      <td>country.wav</td>\n",
       "      <td>0.405833</td>\n",
       "      <td>0.150884</td>\n",
       "      <td>1801.780279</td>\n",
       "      <td>2061.809925</td>\n",
       "      <td>3808.076928</td>\n",
       "      <td>0.082311</td>\n",
       "    </tr>\n",
       "    <tr>\n",
       "      <th>1</th>\n",
       "      <td>./data/genres(new_n)/new/fusion.01.wav</td>\n",
       "      <td>fusion.01.wav</td>\n",
       "      <td>0.403036</td>\n",
       "      <td>0.201435</td>\n",
       "      <td>2612.195398</td>\n",
       "      <td>2712.788073</td>\n",
       "      <td>5855.150097</td>\n",
       "      <td>0.108375</td>\n",
       "    </tr>\n",
       "    <tr>\n",
       "      <th>2</th>\n",
       "      <td>./data/genres(new_n)/new/fusion.00.wav</td>\n",
       "      <td>fusion.00.wav</td>\n",
       "      <td>0.243923</td>\n",
       "      <td>0.157501</td>\n",
       "      <td>1261.581792</td>\n",
       "      <td>1530.421159</td>\n",
       "      <td>2268.777103</td>\n",
       "      <td>0.063182</td>\n",
       "    </tr>\n",
       "    <tr>\n",
       "      <th>3</th>\n",
       "      <td>./data/genres(new_n)/new/hiphop.wav</td>\n",
       "      <td>hiphop.wav</td>\n",
       "      <td>0.333927</td>\n",
       "      <td>0.193895</td>\n",
       "      <td>1922.524472</td>\n",
       "      <td>1913.085393</td>\n",
       "      <td>3828.246460</td>\n",
       "      <td>0.085060</td>\n",
       "    </tr>\n",
       "  </tbody>\n",
       "</table>\n",
       "</div>"
      ],
      "text/plain": [
       "                                     path       filename  chroma_stft   \n",
       "0    ./data/genres(new_n)/new/country.wav    country.wav     0.405833  \\\n",
       "1  ./data/genres(new_n)/new/fusion.01.wav  fusion.01.wav     0.403036   \n",
       "2  ./data/genres(new_n)/new/fusion.00.wav  fusion.00.wav     0.243923   \n",
       "3     ./data/genres(new_n)/new/hiphop.wav     hiphop.wav     0.333927   \n",
       "\n",
       "       rmse    spec_cent      spec_bw      rolloff       zcr  \n",
       "0  0.150884  1801.780279  2061.809925  3808.076928  0.082311  \n",
       "1  0.201435  2612.195398  2712.788073  5855.150097  0.108375  \n",
       "2  0.157501  1261.581792  1530.421159  2268.777103  0.063182  \n",
       "3  0.193895  1922.524472  1913.085393  3828.246460  0.085060  "
      ]
     },
     "execution_count": 19,
     "metadata": {},
     "output_type": "execute_result"
    }
   ],
   "source": [
    "df = pd.DataFrame(datas)\n",
    "df"
   ]
  },
  {
   "cell_type": "code",
   "execution_count": 20,
   "metadata": {},
   "outputs": [],
   "source": [
    "head_mfcc = []\n",
    "for i in range(1, 21):\n",
    "    head_mfcc.append(f'mfcc{i}')"
   ]
  },
  {
   "cell_type": "code",
   "execution_count": 21,
   "metadata": {},
   "outputs": [
    {
     "data": {
      "text/plain": [
       "['mfcc1',\n",
       " 'mfcc2',\n",
       " 'mfcc3',\n",
       " 'mfcc4',\n",
       " 'mfcc5',\n",
       " 'mfcc6',\n",
       " 'mfcc7',\n",
       " 'mfcc8',\n",
       " 'mfcc9',\n",
       " 'mfcc10',\n",
       " 'mfcc11',\n",
       " 'mfcc12',\n",
       " 'mfcc13',\n",
       " 'mfcc14',\n",
       " 'mfcc15',\n",
       " 'mfcc16',\n",
       " 'mfcc17',\n",
       " 'mfcc18',\n",
       " 'mfcc19',\n",
       " 'mfcc20']"
      ]
     },
     "execution_count": 21,
     "metadata": {},
     "output_type": "execute_result"
    }
   ],
   "source": [
    "head_mfcc"
   ]
  },
  {
   "cell_type": "code",
   "execution_count": 22,
   "metadata": {},
   "outputs": [],
   "source": [
    "datas_mfcc = []\n",
    "Y = []\n",
    "for i, i1 in wave_files.items():\n",
    "    for j in i1:\n",
    "        data = os.path.join(i, j)\n",
    "        y, sr = librosa.load(data)\n",
    "        mfcc = librosa.feature.mfcc(y=y, sr=sr)\n",
    "        mfccs = {}\n",
    "        for e in range(0,len(mfcc)):\n",
    "            mfccs[head_mfcc[e]]=np.mean(mfcc[e])\n",
    "        datas_tmp={\n",
    "        \"path\":data,\n",
    "        \"filename\":j\n",
    "        }\n",
    "        datas_tmp = dict(datas_tmp, **mfccs)\n",
    "        datas_mfcc.append(datas_tmp)\n",
    "        Y.append(i)"
   ]
  },
  {
   "cell_type": "code",
   "execution_count": 23,
   "metadata": {},
   "outputs": [
    {
     "data": {
      "text/html": [
       "<div>\n",
       "<style scoped>\n",
       "    .dataframe tbody tr th:only-of-type {\n",
       "        vertical-align: middle;\n",
       "    }\n",
       "\n",
       "    .dataframe tbody tr th {\n",
       "        vertical-align: top;\n",
       "    }\n",
       "\n",
       "    .dataframe thead th {\n",
       "        text-align: right;\n",
       "    }\n",
       "</style>\n",
       "<table border=\"1\" class=\"dataframe\">\n",
       "  <thead>\n",
       "    <tr style=\"text-align: right;\">\n",
       "      <th></th>\n",
       "      <th>path</th>\n",
       "      <th>filename</th>\n",
       "      <th>mfcc1</th>\n",
       "      <th>mfcc2</th>\n",
       "      <th>mfcc3</th>\n",
       "      <th>mfcc4</th>\n",
       "      <th>mfcc5</th>\n",
       "      <th>mfcc6</th>\n",
       "      <th>mfcc7</th>\n",
       "      <th>mfcc8</th>\n",
       "      <th>...</th>\n",
       "      <th>mfcc11</th>\n",
       "      <th>mfcc12</th>\n",
       "      <th>mfcc13</th>\n",
       "      <th>mfcc14</th>\n",
       "      <th>mfcc15</th>\n",
       "      <th>mfcc16</th>\n",
       "      <th>mfcc17</th>\n",
       "      <th>mfcc18</th>\n",
       "      <th>mfcc19</th>\n",
       "      <th>mfcc20</th>\n",
       "    </tr>\n",
       "  </thead>\n",
       "  <tbody>\n",
       "    <tr>\n",
       "      <th>0</th>\n",
       "      <td>./data/genres(new_n)/new/country.wav</td>\n",
       "      <td>country.wav</td>\n",
       "      <td>-138.416382</td>\n",
       "      <td>107.744438</td>\n",
       "      <td>-8.081799</td>\n",
       "      <td>35.410576</td>\n",
       "      <td>16.586304</td>\n",
       "      <td>17.696692</td>\n",
       "      <td>-0.815842</td>\n",
       "      <td>2.527678</td>\n",
       "      <td>...</td>\n",
       "      <td>-5.747252</td>\n",
       "      <td>4.911643</td>\n",
       "      <td>-1.861773</td>\n",
       "      <td>3.432274</td>\n",
       "      <td>-3.833768</td>\n",
       "      <td>3.443918</td>\n",
       "      <td>-3.195200</td>\n",
       "      <td>4.867384</td>\n",
       "      <td>-2.693485</td>\n",
       "      <td>-1.800244</td>\n",
       "    </tr>\n",
       "    <tr>\n",
       "      <th>1</th>\n",
       "      <td>./data/genres(new_n)/new/fusion.01.wav</td>\n",
       "      <td>fusion.01.wav</td>\n",
       "      <td>-59.468258</td>\n",
       "      <td>77.297852</td>\n",
       "      <td>7.072240</td>\n",
       "      <td>31.523220</td>\n",
       "      <td>4.327747</td>\n",
       "      <td>4.600645</td>\n",
       "      <td>-5.130556</td>\n",
       "      <td>5.345969</td>\n",
       "      <td>...</td>\n",
       "      <td>-9.011683</td>\n",
       "      <td>6.837155</td>\n",
       "      <td>-8.763196</td>\n",
       "      <td>0.700869</td>\n",
       "      <td>-7.219707</td>\n",
       "      <td>3.109256</td>\n",
       "      <td>-12.741076</td>\n",
       "      <td>0.762420</td>\n",
       "      <td>-12.925092</td>\n",
       "      <td>0.018498</td>\n",
       "    </tr>\n",
       "    <tr>\n",
       "      <th>2</th>\n",
       "      <td>./data/genres(new_n)/new/fusion.00.wav</td>\n",
       "      <td>fusion.00.wav</td>\n",
       "      <td>-162.999817</td>\n",
       "      <td>137.448135</td>\n",
       "      <td>-11.774125</td>\n",
       "      <td>13.389125</td>\n",
       "      <td>-5.358283</td>\n",
       "      <td>8.140820</td>\n",
       "      <td>-4.449211</td>\n",
       "      <td>-0.121845</td>\n",
       "      <td>...</td>\n",
       "      <td>-8.824728</td>\n",
       "      <td>-3.346426</td>\n",
       "      <td>-9.124072</td>\n",
       "      <td>-5.896582</td>\n",
       "      <td>-4.805422</td>\n",
       "      <td>-4.856084</td>\n",
       "      <td>-5.165923</td>\n",
       "      <td>-1.054640</td>\n",
       "      <td>-3.473535</td>\n",
       "      <td>3.911199</td>\n",
       "    </tr>\n",
       "    <tr>\n",
       "      <th>3</th>\n",
       "      <td>./data/genres(new_n)/new/hiphop.wav</td>\n",
       "      <td>hiphop.wav</td>\n",
       "      <td>-126.523468</td>\n",
       "      <td>104.139671</td>\n",
       "      <td>-25.170931</td>\n",
       "      <td>7.303225</td>\n",
       "      <td>-8.411119</td>\n",
       "      <td>-4.023900</td>\n",
       "      <td>-17.508011</td>\n",
       "      <td>-3.665806</td>\n",
       "      <td>...</td>\n",
       "      <td>-12.640080</td>\n",
       "      <td>-5.408213</td>\n",
       "      <td>-4.625746</td>\n",
       "      <td>6.598872</td>\n",
       "      <td>-2.563092</td>\n",
       "      <td>6.465259</td>\n",
       "      <td>-0.746290</td>\n",
       "      <td>3.566419</td>\n",
       "      <td>-3.256784</td>\n",
       "      <td>-1.105662</td>\n",
       "    </tr>\n",
       "  </tbody>\n",
       "</table>\n",
       "<p>4 rows × 22 columns</p>\n",
       "</div>"
      ],
      "text/plain": [
       "                                     path       filename       mfcc1   \n",
       "0    ./data/genres(new_n)/new/country.wav    country.wav -138.416382  \\\n",
       "1  ./data/genres(new_n)/new/fusion.01.wav  fusion.01.wav  -59.468258   \n",
       "2  ./data/genres(new_n)/new/fusion.00.wav  fusion.00.wav -162.999817   \n",
       "3     ./data/genres(new_n)/new/hiphop.wav     hiphop.wav -126.523468   \n",
       "\n",
       "        mfcc2      mfcc3      mfcc4      mfcc5      mfcc6      mfcc7   \n",
       "0  107.744438  -8.081799  35.410576  16.586304  17.696692  -0.815842  \\\n",
       "1   77.297852   7.072240  31.523220   4.327747   4.600645  -5.130556   \n",
       "2  137.448135 -11.774125  13.389125  -5.358283   8.140820  -4.449211   \n",
       "3  104.139671 -25.170931   7.303225  -8.411119  -4.023900 -17.508011   \n",
       "\n",
       "      mfcc8  ...     mfcc11    mfcc12    mfcc13    mfcc14    mfcc15    mfcc16   \n",
       "0  2.527678  ...  -5.747252  4.911643 -1.861773  3.432274 -3.833768  3.443918  \\\n",
       "1  5.345969  ...  -9.011683  6.837155 -8.763196  0.700869 -7.219707  3.109256   \n",
       "2 -0.121845  ...  -8.824728 -3.346426 -9.124072 -5.896582 -4.805422 -4.856084   \n",
       "3 -3.665806  ... -12.640080 -5.408213 -4.625746  6.598872 -2.563092  6.465259   \n",
       "\n",
       "      mfcc17    mfcc18     mfcc19    mfcc20  \n",
       "0  -3.195200  4.867384  -2.693485 -1.800244  \n",
       "1 -12.741076  0.762420 -12.925092  0.018498  \n",
       "2  -5.165923 -1.054640  -3.473535  3.911199  \n",
       "3  -0.746290  3.566419  -3.256784 -1.105662  \n",
       "\n",
       "[4 rows x 22 columns]"
      ]
     },
     "execution_count": 23,
     "metadata": {},
     "output_type": "execute_result"
    }
   ],
   "source": [
    "df_mfcc = pd.DataFrame(datas_mfcc)\n",
    "df_mfcc"
   ]
  },
  {
   "cell_type": "code",
   "execution_count": 24,
   "metadata": {},
   "outputs": [
    {
     "data": {
      "text/html": [
       "<div>\n",
       "<style scoped>\n",
       "    .dataframe tbody tr th:only-of-type {\n",
       "        vertical-align: middle;\n",
       "    }\n",
       "\n",
       "    .dataframe tbody tr th {\n",
       "        vertical-align: top;\n",
       "    }\n",
       "\n",
       "    .dataframe thead th {\n",
       "        text-align: right;\n",
       "    }\n",
       "</style>\n",
       "<table border=\"1\" class=\"dataframe\">\n",
       "  <thead>\n",
       "    <tr style=\"text-align: right;\">\n",
       "      <th></th>\n",
       "      <th>path</th>\n",
       "      <th>filename</th>\n",
       "      <th>chroma_stft</th>\n",
       "      <th>rmse</th>\n",
       "      <th>spec_cent</th>\n",
       "      <th>spec_bw</th>\n",
       "      <th>rolloff</th>\n",
       "      <th>zcr</th>\n",
       "      <th>mfcc1</th>\n",
       "      <th>mfcc2</th>\n",
       "      <th>...</th>\n",
       "      <th>mfcc11</th>\n",
       "      <th>mfcc12</th>\n",
       "      <th>mfcc13</th>\n",
       "      <th>mfcc14</th>\n",
       "      <th>mfcc15</th>\n",
       "      <th>mfcc16</th>\n",
       "      <th>mfcc17</th>\n",
       "      <th>mfcc18</th>\n",
       "      <th>mfcc19</th>\n",
       "      <th>mfcc20</th>\n",
       "    </tr>\n",
       "  </thead>\n",
       "  <tbody>\n",
       "    <tr>\n",
       "      <th>0</th>\n",
       "      <td>./data/genres(new_n)/new/country.wav</td>\n",
       "      <td>country.wav</td>\n",
       "      <td>0.405833</td>\n",
       "      <td>0.150884</td>\n",
       "      <td>1801.780279</td>\n",
       "      <td>2061.809925</td>\n",
       "      <td>3808.076928</td>\n",
       "      <td>0.082311</td>\n",
       "      <td>-138.416382</td>\n",
       "      <td>107.744438</td>\n",
       "      <td>...</td>\n",
       "      <td>-5.747252</td>\n",
       "      <td>4.911643</td>\n",
       "      <td>-1.861773</td>\n",
       "      <td>3.432274</td>\n",
       "      <td>-3.833768</td>\n",
       "      <td>3.443918</td>\n",
       "      <td>-3.195200</td>\n",
       "      <td>4.867384</td>\n",
       "      <td>-2.693485</td>\n",
       "      <td>-1.800244</td>\n",
       "    </tr>\n",
       "    <tr>\n",
       "      <th>1</th>\n",
       "      <td>./data/genres(new_n)/new/fusion.01.wav</td>\n",
       "      <td>fusion.01.wav</td>\n",
       "      <td>0.403036</td>\n",
       "      <td>0.201435</td>\n",
       "      <td>2612.195398</td>\n",
       "      <td>2712.788073</td>\n",
       "      <td>5855.150097</td>\n",
       "      <td>0.108375</td>\n",
       "      <td>-59.468258</td>\n",
       "      <td>77.297852</td>\n",
       "      <td>...</td>\n",
       "      <td>-9.011683</td>\n",
       "      <td>6.837155</td>\n",
       "      <td>-8.763196</td>\n",
       "      <td>0.700869</td>\n",
       "      <td>-7.219707</td>\n",
       "      <td>3.109256</td>\n",
       "      <td>-12.741076</td>\n",
       "      <td>0.762420</td>\n",
       "      <td>-12.925092</td>\n",
       "      <td>0.018498</td>\n",
       "    </tr>\n",
       "    <tr>\n",
       "      <th>2</th>\n",
       "      <td>./data/genres(new_n)/new/fusion.00.wav</td>\n",
       "      <td>fusion.00.wav</td>\n",
       "      <td>0.243923</td>\n",
       "      <td>0.157501</td>\n",
       "      <td>1261.581792</td>\n",
       "      <td>1530.421159</td>\n",
       "      <td>2268.777103</td>\n",
       "      <td>0.063182</td>\n",
       "      <td>-162.999817</td>\n",
       "      <td>137.448135</td>\n",
       "      <td>...</td>\n",
       "      <td>-8.824728</td>\n",
       "      <td>-3.346426</td>\n",
       "      <td>-9.124072</td>\n",
       "      <td>-5.896582</td>\n",
       "      <td>-4.805422</td>\n",
       "      <td>-4.856084</td>\n",
       "      <td>-5.165923</td>\n",
       "      <td>-1.054640</td>\n",
       "      <td>-3.473535</td>\n",
       "      <td>3.911199</td>\n",
       "    </tr>\n",
       "    <tr>\n",
       "      <th>3</th>\n",
       "      <td>./data/genres(new_n)/new/hiphop.wav</td>\n",
       "      <td>hiphop.wav</td>\n",
       "      <td>0.333927</td>\n",
       "      <td>0.193895</td>\n",
       "      <td>1922.524472</td>\n",
       "      <td>1913.085393</td>\n",
       "      <td>3828.246460</td>\n",
       "      <td>0.085060</td>\n",
       "      <td>-126.523468</td>\n",
       "      <td>104.139671</td>\n",
       "      <td>...</td>\n",
       "      <td>-12.640080</td>\n",
       "      <td>-5.408213</td>\n",
       "      <td>-4.625746</td>\n",
       "      <td>6.598872</td>\n",
       "      <td>-2.563092</td>\n",
       "      <td>6.465259</td>\n",
       "      <td>-0.746290</td>\n",
       "      <td>3.566419</td>\n",
       "      <td>-3.256784</td>\n",
       "      <td>-1.105662</td>\n",
       "    </tr>\n",
       "  </tbody>\n",
       "</table>\n",
       "<p>4 rows × 28 columns</p>\n",
       "</div>"
      ],
      "text/plain": [
       "                                     path       filename  chroma_stft   \n",
       "0    ./data/genres(new_n)/new/country.wav    country.wav     0.405833  \\\n",
       "1  ./data/genres(new_n)/new/fusion.01.wav  fusion.01.wav     0.403036   \n",
       "2  ./data/genres(new_n)/new/fusion.00.wav  fusion.00.wav     0.243923   \n",
       "3     ./data/genres(new_n)/new/hiphop.wav     hiphop.wav     0.333927   \n",
       "\n",
       "       rmse    spec_cent      spec_bw      rolloff       zcr       mfcc1   \n",
       "0  0.150884  1801.780279  2061.809925  3808.076928  0.082311 -138.416382  \\\n",
       "1  0.201435  2612.195398  2712.788073  5855.150097  0.108375  -59.468258   \n",
       "2  0.157501  1261.581792  1530.421159  2268.777103  0.063182 -162.999817   \n",
       "3  0.193895  1922.524472  1913.085393  3828.246460  0.085060 -126.523468   \n",
       "\n",
       "        mfcc2  ...     mfcc11    mfcc12    mfcc13    mfcc14    mfcc15   \n",
       "0  107.744438  ...  -5.747252  4.911643 -1.861773  3.432274 -3.833768  \\\n",
       "1   77.297852  ...  -9.011683  6.837155 -8.763196  0.700869 -7.219707   \n",
       "2  137.448135  ...  -8.824728 -3.346426 -9.124072 -5.896582 -4.805422   \n",
       "3  104.139671  ... -12.640080 -5.408213 -4.625746  6.598872 -2.563092   \n",
       "\n",
       "     mfcc16     mfcc17    mfcc18     mfcc19    mfcc20  \n",
       "0  3.443918  -3.195200  4.867384  -2.693485 -1.800244  \n",
       "1  3.109256 -12.741076  0.762420 -12.925092  0.018498  \n",
       "2 -4.856084  -5.165923 -1.054640  -3.473535  3.911199  \n",
       "3  6.465259  -0.746290  3.566419  -3.256784 -1.105662  \n",
       "\n",
       "[4 rows x 28 columns]"
      ]
     },
     "execution_count": 24,
     "metadata": {},
     "output_type": "execute_result"
    }
   ],
   "source": [
    "df_all = pd.merge(df,df_mfcc)\n",
    "df_all"
   ]
  },
  {
   "cell_type": "code",
   "execution_count": 25,
   "metadata": {},
   "outputs": [
    {
     "data": {
      "text/plain": [
       "0       [country, wav]\n",
       "1    [fusion, 01, wav]\n",
       "2    [fusion, 00, wav]\n",
       "3        [hiphop, wav]\n",
       "Name: filename, dtype: object"
      ]
     },
     "execution_count": 25,
     "metadata": {},
     "output_type": "execute_result"
    }
   ],
   "source": [
    "labels = df_all['filename'].str.split('.')\n",
    "labels"
   ]
  },
  {
   "cell_type": "code",
   "execution_count": 30,
   "metadata": {},
   "outputs": [],
   "source": [
    "df_all['label'] = labels.str.get(0)"
   ]
  },
  {
   "cell_type": "code",
   "execution_count": 31,
   "metadata": {},
   "outputs": [
    {
     "data": {
      "text/plain": [
       "(array(['country', 'fusion', 'hiphop'], dtype=object), 3)"
      ]
     },
     "execution_count": 31,
     "metadata": {},
     "output_type": "execute_result"
    }
   ],
   "source": [
    "df_all['label'].unique(),len(df_all['label'].unique())"
   ]
  },
  {
   "cell_type": "code",
   "execution_count": 32,
   "metadata": {},
   "outputs": [],
   "source": [
    "df_all.to_csv(\"./data/only_new_n_file.csv\",index=False)"
   ]
  },
  {
   "cell_type": "code",
   "execution_count": 34,
   "metadata": {},
   "outputs": [
    {
     "data": {
      "text/html": [
       "<div>\n",
       "<style scoped>\n",
       "    .dataframe tbody tr th:only-of-type {\n",
       "        vertical-align: middle;\n",
       "    }\n",
       "\n",
       "    .dataframe tbody tr th {\n",
       "        vertical-align: top;\n",
       "    }\n",
       "\n",
       "    .dataframe thead th {\n",
       "        text-align: right;\n",
       "    }\n",
       "</style>\n",
       "<table border=\"1\" class=\"dataframe\">\n",
       "  <thead>\n",
       "    <tr style=\"text-align: right;\">\n",
       "      <th></th>\n",
       "      <th>path</th>\n",
       "      <th>filename</th>\n",
       "      <th>chroma_stft</th>\n",
       "      <th>rmse</th>\n",
       "      <th>spec_cent</th>\n",
       "      <th>spec_bw</th>\n",
       "      <th>rolloff</th>\n",
       "      <th>zcr</th>\n",
       "      <th>mfcc1</th>\n",
       "      <th>mfcc2</th>\n",
       "      <th>...</th>\n",
       "      <th>mfcc12</th>\n",
       "      <th>mfcc13</th>\n",
       "      <th>mfcc14</th>\n",
       "      <th>mfcc15</th>\n",
       "      <th>mfcc16</th>\n",
       "      <th>mfcc17</th>\n",
       "      <th>mfcc18</th>\n",
       "      <th>mfcc19</th>\n",
       "      <th>mfcc20</th>\n",
       "      <th>label</th>\n",
       "    </tr>\n",
       "  </thead>\n",
       "  <tbody>\n",
       "    <tr>\n",
       "      <th>0</th>\n",
       "      <td>./data/genres(new_n)/new/country.wav</td>\n",
       "      <td>country.wav</td>\n",
       "      <td>0.405833</td>\n",
       "      <td>0.150884</td>\n",
       "      <td>1801.780279</td>\n",
       "      <td>2061.809925</td>\n",
       "      <td>3808.076928</td>\n",
       "      <td>0.082311</td>\n",
       "      <td>-138.416380</td>\n",
       "      <td>107.74444</td>\n",
       "      <td>...</td>\n",
       "      <td>4.911643</td>\n",
       "      <td>-1.861773</td>\n",
       "      <td>3.432274</td>\n",
       "      <td>-3.833768</td>\n",
       "      <td>3.443918</td>\n",
       "      <td>-3.195200</td>\n",
       "      <td>4.867384</td>\n",
       "      <td>-2.693485</td>\n",
       "      <td>-1.800244</td>\n",
       "      <td>country</td>\n",
       "    </tr>\n",
       "    <tr>\n",
       "      <th>1</th>\n",
       "      <td>./data/genres(new_n)/new/fusion.01.wav</td>\n",
       "      <td>fusion.01.wav</td>\n",
       "      <td>0.403036</td>\n",
       "      <td>0.201435</td>\n",
       "      <td>2612.195398</td>\n",
       "      <td>2712.788073</td>\n",
       "      <td>5855.150097</td>\n",
       "      <td>0.108375</td>\n",
       "      <td>-59.468258</td>\n",
       "      <td>77.29785</td>\n",
       "      <td>...</td>\n",
       "      <td>6.837155</td>\n",
       "      <td>-8.763196</td>\n",
       "      <td>0.700869</td>\n",
       "      <td>-7.219707</td>\n",
       "      <td>3.109256</td>\n",
       "      <td>-12.741076</td>\n",
       "      <td>0.762420</td>\n",
       "      <td>-12.925092</td>\n",
       "      <td>0.018498</td>\n",
       "      <td>fusion</td>\n",
       "    </tr>\n",
       "    <tr>\n",
       "      <th>2</th>\n",
       "      <td>./data/genres(new_n)/new/fusion.00.wav</td>\n",
       "      <td>fusion.00.wav</td>\n",
       "      <td>0.243923</td>\n",
       "      <td>0.157501</td>\n",
       "      <td>1261.581792</td>\n",
       "      <td>1530.421159</td>\n",
       "      <td>2268.777103</td>\n",
       "      <td>0.063182</td>\n",
       "      <td>-162.999820</td>\n",
       "      <td>137.44814</td>\n",
       "      <td>...</td>\n",
       "      <td>-3.346426</td>\n",
       "      <td>-9.124072</td>\n",
       "      <td>-5.896582</td>\n",
       "      <td>-4.805422</td>\n",
       "      <td>-4.856084</td>\n",
       "      <td>-5.165923</td>\n",
       "      <td>-1.054640</td>\n",
       "      <td>-3.473535</td>\n",
       "      <td>3.911199</td>\n",
       "      <td>fusion</td>\n",
       "    </tr>\n",
       "    <tr>\n",
       "      <th>3</th>\n",
       "      <td>./data/genres(new_n)/new/hiphop.wav</td>\n",
       "      <td>hiphop.wav</td>\n",
       "      <td>0.333927</td>\n",
       "      <td>0.193895</td>\n",
       "      <td>1922.524472</td>\n",
       "      <td>1913.085393</td>\n",
       "      <td>3828.246460</td>\n",
       "      <td>0.085060</td>\n",
       "      <td>-126.523470</td>\n",
       "      <td>104.13967</td>\n",
       "      <td>...</td>\n",
       "      <td>-5.408213</td>\n",
       "      <td>-4.625746</td>\n",
       "      <td>6.598872</td>\n",
       "      <td>-2.563093</td>\n",
       "      <td>6.465259</td>\n",
       "      <td>-0.746290</td>\n",
       "      <td>3.566419</td>\n",
       "      <td>-3.256784</td>\n",
       "      <td>-1.105662</td>\n",
       "      <td>hiphop</td>\n",
       "    </tr>\n",
       "  </tbody>\n",
       "</table>\n",
       "<p>4 rows × 29 columns</p>\n",
       "</div>"
      ],
      "text/plain": [
       "                                     path       filename  chroma_stft   \n",
       "0    ./data/genres(new_n)/new/country.wav    country.wav     0.405833  \\\n",
       "1  ./data/genres(new_n)/new/fusion.01.wav  fusion.01.wav     0.403036   \n",
       "2  ./data/genres(new_n)/new/fusion.00.wav  fusion.00.wav     0.243923   \n",
       "3     ./data/genres(new_n)/new/hiphop.wav     hiphop.wav     0.333927   \n",
       "\n",
       "       rmse    spec_cent      spec_bw      rolloff       zcr       mfcc1   \n",
       "0  0.150884  1801.780279  2061.809925  3808.076928  0.082311 -138.416380  \\\n",
       "1  0.201435  2612.195398  2712.788073  5855.150097  0.108375  -59.468258   \n",
       "2  0.157501  1261.581792  1530.421159  2268.777103  0.063182 -162.999820   \n",
       "3  0.193895  1922.524472  1913.085393  3828.246460  0.085060 -126.523470   \n",
       "\n",
       "       mfcc2  ...    mfcc12    mfcc13    mfcc14    mfcc15    mfcc16   \n",
       "0  107.74444  ...  4.911643 -1.861773  3.432274 -3.833768  3.443918  \\\n",
       "1   77.29785  ...  6.837155 -8.763196  0.700869 -7.219707  3.109256   \n",
       "2  137.44814  ... -3.346426 -9.124072 -5.896582 -4.805422 -4.856084   \n",
       "3  104.13967  ... -5.408213 -4.625746  6.598872 -2.563093  6.465259   \n",
       "\n",
       "      mfcc17    mfcc18     mfcc19    mfcc20    label  \n",
       "0  -3.195200  4.867384  -2.693485 -1.800244  country  \n",
       "1 -12.741076  0.762420 -12.925092  0.018498   fusion  \n",
       "2  -5.165923 -1.054640  -3.473535  3.911199   fusion  \n",
       "3  -0.746290  3.566419  -3.256784 -1.105662   hiphop  \n",
       "\n",
       "[4 rows x 29 columns]"
      ]
     },
     "execution_count": 34,
     "metadata": {},
     "output_type": "execute_result"
    }
   ],
   "source": [
    "# 데이터 불러오기\n",
    "df2 = pd.read_csv(\"./data/only_new_n_file.csv\")\n",
    "df2.head()"
   ]
  },
  {
   "cell_type": "code",
   "execution_count": null,
   "metadata": {},
   "outputs": [],
   "source": []
  }
 ],
 "metadata": {
  "kernelspec": {
   "display_name": "ds_study",
   "language": "python",
   "name": "python3"
  },
  "language_info": {
   "codemirror_mode": {
    "name": "ipython",
    "version": 3
   },
   "file_extension": ".py",
   "mimetype": "text/x-python",
   "name": "python",
   "nbconvert_exporter": "python",
   "pygments_lexer": "ipython3",
   "version": "3.8.16"
  },
  "orig_nbformat": 4
 },
 "nbformat": 4,
 "nbformat_minor": 2
}
